{
 "cells": [
  {
   "cell_type": "code",
   "execution_count": 3,
   "id": "4f45621f-6c45-4b3f-a3b4-d82311c7d2b2",
   "metadata": {},
   "outputs": [],
   "source": [
    "#run two times\n",
    "import tensorflow as tf\n",
    "import random\n",
    "import gym\n",
    "from keras import __version__\n",
    "tf.keras.__version__ = __version__\n",
    "from tensorflow.keras.models import Sequential\n",
    "from tensorflow.keras.layers import Dense, Flatten\n",
    "from tensorflow.keras.optimizers import Adam\n",
    "from rl.agents import DQNAgent\n",
    "from rl.policy import BoltzmannQPolicy\n",
    "from rl.memory import SequentialMemory\n",
    "import numpy as np"
   ]
  },
  {
   "cell_type": "code",
   "execution_count": 5,
   "id": "129242a8-90f5-4b89-a191-f143b6f984d4",
   "metadata": {},
   "outputs": [],
   "source": [
    "env = gym.make(\"CartPole-v1\", render_mode=\"human\")"
   ]
  },
  {
   "cell_type": "code",
   "execution_count": 9,
   "id": "3ac4af32-9b6f-4acf-b7dc-e8edbc77413d",
   "metadata": {},
   "outputs": [
    {
     "name": "stdout",
     "output_type": "stream",
     "text": [
      "Episode 1, Score: 32.0\n",
      "Episode 2, Score: 11.0\n",
      "Episode 3, Score: 15.0\n",
      "Episode 4, Score: 14.0\n",
      "Episode 5, Score: 33.0\n",
      "Episode 6, Score: 18.0\n",
      "Episode 7, Score: 20.0\n",
      "Episode 8, Score: 19.0\n",
      "Episode 9, Score: 13.0\n",
      "Episode 10, Score: 27.0\n"
     ]
    }
   ],
   "source": [
    "#random inputs\n",
    "episodes = 10\n",
    "for episode in range(1, episodes+1):\n",
    "    state = env.reset()\n",
    "    done = False\n",
    "    score = 0\n",
    "\n",
    "    while not done:\n",
    "        action = random.choice([0,1])\n",
    "        _, reward, done, _ = env.step(action)\n",
    "        score += reward\n",
    "        env.render()\n",
    "\n",
    "    print(f\"Episode {episode}, Score: {score}\")\n",
    "env.close()"
   ]
  },
  {
   "cell_type": "code",
   "execution_count": 6,
   "id": "8cfbd0a5-b86d-451a-a47f-7738cf184cce",
   "metadata": {},
   "outputs": [],
   "source": [
    "def build_model(states, actions):\n",
    "    model = Sequential()\n",
    "    model.add(Flatten(input_shape=(1,states)))\n",
    "    model.add(Dense(24, activation=\"relu\"))\n",
    "    model.add(Dense(24, activation=\"relu\"))\n",
    "    model.add(Dense(actions, activation=\"linear\"))\n",
    "    return model"
   ]
  },
  {
   "cell_type": "code",
   "execution_count": 7,
   "id": "b0aaa973-1c60-4e30-a0b9-8d35fe145e2d",
   "metadata": {},
   "outputs": [],
   "source": [
    "states = env.observation_space.shape[0]\n",
    "actions = env.action_space.n"
   ]
  },
  {
   "cell_type": "code",
   "execution_count": 9,
   "id": "73f8c053-3d51-47e0-a936-4648b750d93e",
   "metadata": {},
   "outputs": [],
   "source": [
    "model = build_model(states, actions)"
   ]
  },
  {
   "cell_type": "code",
   "execution_count": 10,
   "id": "4f1b36ec-404e-488c-babf-683b6d022244",
   "metadata": {},
   "outputs": [
    {
     "name": "stdout",
     "output_type": "stream",
     "text": [
      "Model: \"sequential_1\"\n",
      "_________________________________________________________________\n",
      " Layer (type)                Output Shape              Param #   \n",
      "=================================================================\n",
      " flatten_1 (Flatten)         (None, 4)                 0         \n",
      "                                                                 \n",
      " dense_3 (Dense)             (None, 24)                120       \n",
      "                                                                 \n",
      " dense_4 (Dense)             (None, 24)                600       \n",
      "                                                                 \n",
      " dense_5 (Dense)             (None, 2)                 50        \n",
      "                                                                 \n",
      "=================================================================\n",
      "Total params: 770 (3.01 KB)\n",
      "Trainable params: 770 (3.01 KB)\n",
      "Non-trainable params: 0 (0.00 Byte)\n",
      "_________________________________________________________________\n"
     ]
    }
   ],
   "source": [
    "model.summary()"
   ]
  },
  {
   "cell_type": "code",
   "execution_count": 11,
   "id": "317fa6eb-df29-4393-af29-6ee31fba1d90",
   "metadata": {},
   "outputs": [],
   "source": [
    "def build_agent(model, actions):\n",
    "    agent = DQNAgent(\n",
    "        model=model,\n",
    "        memory=SequentialMemory(limit=50000, window_length=1),\n",
    "        policy=BoltzmannQPolicy(),\n",
    "        nb_actions=actions,\n",
    "        nb_steps_warmup=10,\n",
    "        target_model_update=0.01\n",
    "    )\n",
    "    return agent"
   ]
  },
  {
   "cell_type": "code",
   "execution_count": 28,
   "id": "b4818d4c-aab4-4c0b-9de3-fa45511240f9",
   "metadata": {},
   "outputs": [
    {
     "name": "stdout",
     "output_type": "stream",
     "text": [
      "Training for 100000 steps ...\n",
      "Interval 1 (0 steps performed)\n",
      "10000/10000 [==============================] - 71s 7ms/step - reward: 1.0000\n",
      "94 episodes - episode_reward: 106.298 [9.000, 432.000] - loss: 2.390 - mae: 20.638 - mean_q: 41.726\n",
      "\n",
      "Interval 2 (10000 steps performed)\n",
      "10000/10000 [==============================] - 71s 7ms/step - reward: 1.0000\n",
      "36 episodes - episode_reward: 267.194 [207.000, 500.000] - loss: 3.502 - mae: 44.643 - mean_q: 90.025\n",
      "\n",
      "Interval 3 (20000 steps performed)\n",
      "10000/10000 [==============================] - 73s 7ms/step - reward: 1.0000\n",
      "35 episodes - episode_reward: 295.686 [227.000, 476.000] - loss: 2.668 - mae: 48.810 - mean_q: 98.210\n",
      "\n",
      "Interval 4 (30000 steps performed)\n",
      "10000/10000 [==============================] - 73s 7ms/step - reward: 1.0000\n",
      "28 episodes - episode_reward: 350.571 [229.000, 500.000] - loss: 1.693 - mae: 47.339 - mean_q: 95.157\n",
      "\n",
      "Interval 5 (40000 steps performed)\n",
      "10000/10000 [==============================] - 76s 8ms/step - reward: 1.0000\n",
      "32 episodes - episode_reward: 306.656 [239.000, 500.000] - loss: 1.126 - mae: 44.318 - mean_q: 88.991\n",
      "\n",
      "Interval 6 (50000 steps performed)\n",
      "10000/10000 [==============================] - 75s 8ms/step - reward: 1.0000\n",
      "34 episodes - episode_reward: 301.029 [36.000, 500.000] - loss: 0.593 - mae: 42.854 - mean_q: 85.960\n",
      "\n",
      "Interval 7 (60000 steps performed)\n",
      "10000/10000 [==============================] - 75s 8ms/step - reward: 1.0000\n",
      "24 episodes - episode_reward: 411.083 [93.000, 500.000] - loss: 1.837 - mae: 44.309 - mean_q: 89.042\n",
      "\n",
      "Interval 8 (70000 steps performed)\n",
      "10000/10000 [==============================] - 76s 8ms/step - reward: 1.0000\n",
      "25 episodes - episode_reward: 411.600 [130.000, 500.000] - loss: 5.189 - mae: 52.840 - mean_q: 106.415\n",
      "\n",
      "Interval 9 (80000 steps performed)\n",
      "10000/10000 [==============================] - 75s 8ms/step - reward: 1.0000\n",
      "27 episodes - episode_reward: 367.852 [79.000, 500.000] - loss: 8.459 - mae: 56.715 - mean_q: 114.096\n",
      "\n",
      "Interval 10 (90000 steps performed)\n",
      "10000/10000 [==============================] - 76s 8ms/step - reward: 1.0000\n",
      "done, took 740.789 seconds\n"
     ]
    },
    {
     "data": {
      "text/plain": [
       "<keras.src.callbacks.History at 0x1884bd76fd0>"
      ]
     },
     "execution_count": 28,
     "metadata": {},
     "output_type": "execute_result"
    }
   ],
   "source": [
    "agent = build_agent(model, actions)\n",
    "agent.compile(tf.keras.optimizers.legacy.Adam(learning_rate=0.001),metrics=[\"mae\"])\n",
    "agent.fit(env, nb_steps=100000, visualize=False, verbose=1)"
   ]
  },
  {
   "cell_type": "code",
   "execution_count": 17,
   "id": "db8d5bce-7cd6-4a3a-8952-c76acb0399fe",
   "metadata": {},
   "outputs": [
    {
     "name": "stdout",
     "output_type": "stream",
     "text": [
      "Testing for 10 episodes ...\n",
      "Episode 1: reward: 500.000, steps: 500\n",
      "Episode 2: reward: 500.000, steps: 500\n",
      "Episode 3: reward: 500.000, steps: 500\n",
      "Episode 4: reward: 500.000, steps: 500\n",
      "Episode 5: reward: 500.000, steps: 500\n",
      "Episode 6: reward: 500.000, steps: 500\n",
      "Episode 7: reward: 500.000, steps: 500\n",
      "Episode 8: reward: 500.000, steps: 500\n",
      "Episode 9: reward: 500.000, steps: 500\n",
      "Episode 10: reward: 500.000, steps: 500\n",
      "500.0\n"
     ]
    }
   ],
   "source": [
    "results = agent.test(env, nb_episodes=10, visualize=True)\n",
    "print(np.mean(results.history[\"episode_reward\"]))\n",
    "env.close()"
   ]
  },
  {
   "cell_type": "code",
   "execution_count": 34,
   "id": "765ed6e0-792c-431c-9e43-0b94804f7a04",
   "metadata": {},
   "outputs": [],
   "source": [
    "agent.save_weights('dqn_weights.h5f', overwrite=True)"
   ]
  },
  {
   "cell_type": "code",
   "execution_count": 20,
   "id": "d0b4b484-a0cb-44e1-99fe-3acdd6aafdd4",
   "metadata": {},
   "outputs": [],
   "source": [
    "env = gym.make(\"CartPole-v1\", render_mode=\"human\")\n",
    "actions = env.action_space.n\n",
    "states = env.observation_space.shape[0]\n",
    "model = build_model(states, actions)\n",
    "agent = build_agent(model, actions)\n",
    "agent.compile(tf.keras.optimizers.legacy.Adam(learning_rate=0.001), metrics=['mae'])"
   ]
  },
  {
   "cell_type": "code",
   "execution_count": 21,
   "id": "ccd73226-7068-4b5e-8cbf-2475bde2894d",
   "metadata": {},
   "outputs": [],
   "source": [
    "agent.load_weights('dqn_weights.h5f')"
   ]
  },
  {
   "cell_type": "code",
   "execution_count": 23,
   "id": "85d6b762-a048-4669-9582-04abbbea9453",
   "metadata": {},
   "outputs": [
    {
     "name": "stdout",
     "output_type": "stream",
     "text": [
      "Testing for 10 episodes ...\n",
      "Episode 1: reward: 500.000, steps: 500\n",
      "Episode 2: reward: 500.000, steps: 500\n",
      "Episode 3: reward: 500.000, steps: 500\n",
      "Episode 4: reward: 500.000, steps: 500\n",
      "Episode 5: reward: 500.000, steps: 500\n",
      "Episode 6: reward: 500.000, steps: 500\n",
      "Episode 7: reward: 500.000, steps: 500\n",
      "Episode 8: reward: 500.000, steps: 500\n",
      "Episode 9: reward: 500.000, steps: 500\n",
      "Episode 10: reward: 500.000, steps: 500\n"
     ]
    }
   ],
   "source": [
    "agent.test(env, nb_episodes=10, visualize=True)\n",
    "env.close()"
   ]
  },
  {
   "cell_type": "code",
   "execution_count": null,
   "id": "92a7ce25-086e-4cdb-9d7d-66f49df0effe",
   "metadata": {},
   "outputs": [],
   "source": []
  }
 ],
 "metadata": {
  "kernelspec": {
   "display_name": "tf",
   "language": "python",
   "name": "tf"
  },
  "language_info": {
   "codemirror_mode": {
    "name": "ipython",
    "version": 3
   },
   "file_extension": ".py",
   "mimetype": "text/x-python",
   "name": "python",
   "nbconvert_exporter": "python",
   "pygments_lexer": "ipython3",
   "version": "3.9.18"
  }
 },
 "nbformat": 4,
 "nbformat_minor": 5
}
